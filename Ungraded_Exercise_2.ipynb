{
 "cells": [
  {
   "cell_type": "markdown",
   "metadata": {},
   "source": [
    "1. Ask user to enter a string and check that it is made up only alphabets:"
   ]
  },
  {
   "cell_type": "code",
   "execution_count": 2,
   "metadata": {},
   "outputs": [
    {
     "name": "stdout",
     "output_type": "stream",
     "text": [
      "The string contains only alphabets.\n"
     ]
    }
   ],
   "source": [
    "\n",
    "user_input = input(\"Please enter a string: \")\n",
    "\n",
    "\n",
    "if user_input.isalpha():\n",
    "    print(\"The string contains only alphabets.\")\n",
    "else:\n",
    "    print(\"The string contains non-alphabet characters.\")\n",
    "\n"
   ]
  },
  {
   "cell_type": "markdown",
   "metadata": {},
   "source": [
    "2. Now, make sure that the string is made up of both alphabets and numbers:\n",
    "\n",
    "TRY using isalnum() function and then entering only alhpabets in the string and see what happens."
   ]
  },
  {
   "cell_type": "code",
   "execution_count": 3,
   "metadata": {},
   "outputs": [
    {
     "name": "stdout",
     "output_type": "stream",
     "text": [
      "The string contains only alphabets and/or numbers.\n",
      "The string contains only alphabets, no numbers.\n"
     ]
    }
   ],
   "source": [
    "# Get user input\n",
    "user_input = input(\"Please enter a string: \")\n",
    "\n",
    "# Check if the string contains only alphanumeric characters\n",
    "if user_input.isalnum():\n",
    "    print(\"The string contains only alphabets and/or numbers.\")\n",
    "    if user_input.isalpha():\n",
    "        print(\"The string contains only alphabets, no numbers.\")\n",
    "    elif user_input.isdigit():\n",
    "        print(\"The string contains only numbers, no alphabets.\")\n",
    "    else:\n",
    "        print(\"The string contains both alphabets and numbers.\")\n",
    "else:\n",
    "    print(\"The string contains special characters.\")\n"
   ]
  },
  {
   "cell_type": "markdown",
   "metadata": {},
   "source": [
    "3. Now, make sure that the string is made up of both alphabets and at least one number:\n"
   ]
  },
  {
   "cell_type": "code",
   "execution_count": 4,
   "metadata": {},
   "outputs": [
    {
     "name": "stdout",
     "output_type": "stream",
     "text": [
      "The string must contain both alphabets and at least one number.\n"
     ]
    }
   ],
   "source": [
    "# Get user input\n",
    "user_input = input(\"Please enter a string: \")\n",
    "\n",
    "# Check if the string contains both alphabets and at least one number\n",
    "if user_input.isalnum() and any(char.isalpha() for char in user_input) and any(char.isdigit() for char in user_input):\n",
    "    print(\"The string contains both alphabets and at least one number.\")\n",
    "else:\n",
    "    print(\"The string must contain both alphabets and at least one number.\")\n"
   ]
  },
  {
   "cell_type": "markdown",
   "metadata": {},
   "source": [
    "4. Now, make sure that the string is made up of both alphabets, at least one number, and at least one special character:"
   ]
  },
  {
   "cell_type": "code",
   "execution_count": 5,
   "metadata": {},
   "outputs": [
    {
     "name": "stdout",
     "output_type": "stream",
     "text": [
      "The string must contain both alphabets, at least one number, and at least one special character.\n"
     ]
    }
   ],
   "source": [
    "import string\n",
    "\n",
    "# Get user input\n",
    "user_input = input(\"Please enter a string: \")\n",
    "\n",
    "# Define special characters\n",
    "special_characters = string.punctuation\n",
    "\n",
    "# Check if the string contains both alphabets, at least one number, and at least one special character\n",
    "contains_alphabet = any(char.isalpha() for char in user_input)\n",
    "contains_number = any(char.isdigit() for char in user_input)\n",
    "contains_special = any(char in special_characters for char in user_input)\n",
    "\n",
    "if contains_alphabet and contains_number and contains_special:\n",
    "    print(\"The string contains both alphabets, at least one number, and at least one special character.\")\n",
    "else:\n",
    "    print(\"The string must contain both alphabets, at least one number, and at least one special character.\")\n"
   ]
  },
  {
   "cell_type": "markdown",
   "metadata": {},
   "source": [
    "5. Now, modify the above code so that if the user enters an invalid string, the program should ask the user to enter another string again, and keep asking until a valid string has been entered."
   ]
  },
  {
   "cell_type": "code",
   "execution_count": 6,
   "metadata": {},
   "outputs": [
    {
     "name": "stdout",
     "output_type": "stream",
     "text": [
      "The string must contain both alphabets, at least one number, and at least one special character. Please try again.\n",
      "The string must contain both alphabets, at least one number, and at least one special character. Please try again.\n",
      "The string is valid.\n"
     ]
    }
   ],
   "source": [
    "import string\n",
    "\n",
    "def is_valid_string(s):\n",
    "    # Define special characters\n",
    "    special_characters = string.punctuation\n",
    "    \n",
    "    # Check if the string contains both alphabets, at least one number, and at least one special character\n",
    "    contains_alphabet = any(char.isalpha() for char in s)\n",
    "    contains_number = any(char.isdigit() for char in s)\n",
    "    contains_special = any(char in special_characters for char in s)\n",
    "    \n",
    "    return contains_alphabet and contains_number and contains_special\n",
    "\n",
    "while True:\n",
    "    # Get user input\n",
    "    user_input = input(\"Please enter a string: \")\n",
    "    \n",
    "    if is_valid_string(user_input):\n",
    "        print(\"The string is valid.\")\n",
    "        break\n",
    "    else:\n",
    "        print(\"The string must contain both alphabets, at least one number, and at least one special character. Please try again.\")\n"
   ]
  }
 ],
 "metadata": {
  "kernelspec": {
   "display_name": "Python 3",
   "language": "python",
   "name": "python3"
  },
  "language_info": {
   "codemirror_mode": {
    "name": "ipython",
    "version": 3
   },
   "file_extension": ".py",
   "mimetype": "text/x-python",
   "name": "python",
   "nbconvert_exporter": "python",
   "pygments_lexer": "ipython3",
   "version": "3.11.5"
  }
 },
 "nbformat": 4,
 "nbformat_minor": 2
}
